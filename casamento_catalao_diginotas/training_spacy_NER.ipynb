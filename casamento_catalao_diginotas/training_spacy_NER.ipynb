{
 "cells": [
  {
   "metadata": {},
   "cell_type": "code",
   "source": [
    "!pip install spacy\n",
    "!pip install matplotlib\n",
    "!pip install scikit-learn"
   ],
   "id": "235edfd4b0180ee9",
   "outputs": [],
   "execution_count": null
  },
  {
   "metadata": {},
   "cell_type": "code",
   "outputs": [],
   "execution_count": null,
   "source": [
    "import json\n",
    "import spacy\n",
    "from spacy.cli.train import train\n",
    "from spacy.util import minibatch, compounding\n",
    "import random\n",
    "from pathlib import Path\n",
    "import matplotlib.pyplot as plt\n",
    "from sklearn.metrics import classification_report, precision_recall_fscore_support\n",
    "from sklearn.model_selection import train_test_split\n"
   ],
   "id": "c8608ee5bb67f0de"
  },
  {
   "metadata": {},
   "cell_type": "code",
   "outputs": [],
   "execution_count": null,
   "source": [
    "# Load the training data\n",
    "with open('C:\\\\Users\\\\josed\\\\codes\\\\spacy_NER_trainig\\\\maped_data.json', 'r', encoding='utf-8') as f:\n",
    "    TRAIN_DATA = json.load(f)\n"
   ],
   "id": "c89d1dc4ee32fef8"
  },
  {
   "metadata": {},
   "cell_type": "code",
   "outputs": [],
   "execution_count": null,
   "source": [
    "# Split the data into training and development sets (80% train, 20% dev)\n",
    "train_data, dev_data = train_test_split(TRAIN_DATA, test_size=0.2, random_state=42)\n"
   ],
   "id": "a6f5c550b37523cd"
  },
  {
   "metadata": {},
   "cell_type": "code",
   "outputs": [],
   "execution_count": null,
   "source": [
    "# Save the split data\n",
    "train_data_path = Path('path/to/output/train_data.spacy')\n",
    "dev_data_path = Path('path/to/output/dev_data.spacy')\n",
    "\n",
    "with open(train_data_path, 'w', encoding='utf-8') as f:\n",
    "    json.dump(train_data, f, ensure_ascii=False, indent=2)\n",
    "\n",
    "with open(dev_data_path, 'w', encoding='utf-8') as f:\n",
    "    json.dump(dev_data, f, ensure_ascii=False, indent=2)\n"
   ],
   "id": "f92f0876f2dee305"
  },
  {
   "metadata": {},
   "cell_type": "code",
   "outputs": [],
   "execution_count": null,
   "source": [
    "# Load the Portuguese language model\n",
    "# Load transformer-based model or initialize blank model based on configuration\n",
    "try:\n",
    "    nlp = spacy.load(\"pt_core_news_lg\")\n",
    "except OSError:\n",
    "    nlp = spacy.blank('pt')\n",
    "    print(\"Loading blank Portuguese model. Make sure to have a pre-trained model for better performance.\")\n"
   ],
   "id": "98c63cd959acc42b"
  },
  {
   "metadata": {},
   "cell_type": "code",
   "outputs": [],
   "execution_count": null,
   "source": [
    "# Update the config paths\n",
    "cfg_path = Path('base_config.cfg')\n",
    "filled_cfg_path = Path('config.cfg')\n",
    "output_dir = Path('C:\\\\Users\\\\josed\\\\codes\\\\spacy_NER_trainig\\\\model')\n"
   ],
   "id": "6544ec5c75f0e1d4"
  },
  {
   "metadata": {},
   "cell_type": "code",
   "outputs": [],
   "execution_count": null,
   "source": [
    "# Fill the configuration with default settings\n",
    "!python -m spacy init fill-config {cfg_path} {filled_cfg_path}\n"
   ],
   "id": "45f70bfe0e90de57"
  },
  {
   "metadata": {},
   "cell_type": "code",
   "outputs": [],
   "execution_count": null,
   "source": [
    "# Update the filled configuration file to include the train and dev paths\n",
    "with open(filled_cfg_path, 'r') as f:\n",
    "    config = f.read()\n",
    "\n",
    "config = config.replace(\"train = null\", f\"train = {train_data_path}\")\n",
    "config = config.replace(\"dev = null\", f\"dev = {dev_data_path}\")\n",
    "\n",
    "with open(filled_cfg_path, 'w') as f:\n",
    "    f.write(config)\n"
   ],
   "id": "b0a01ea14be81635"
  },
  {
   "metadata": {},
   "cell_type": "code",
   "outputs": [],
   "execution_count": null,
   "source": [
    "# Train the model using the filled configuration\n",
    "train(str(filled_cfg_path), output_path=str(output_dir))\n"
   ],
   "id": "97f2579168ea828c"
  },
  {
   "metadata": {},
   "cell_type": "code",
   "outputs": [],
   "execution_count": null,
   "source": [
    "# Plot training loss\n",
    "# Since training with the CLI does not provide direct losses here,\n",
    "# an alternative would be monitoring the output directory logs.\n",
    "\n",
    "# Load trained model\n",
    "nlp = spacy.load(output_dir)\n"
   ],
   "id": "56ec7c04579d624f"
  },
  {
   "metadata": {},
   "cell_type": "code",
   "outputs": [],
   "execution_count": null,
   "source": [
    "# Evaluate the model\n",
    "examples = random.sample(dev_data, 10)  # Randomly pick some examples for testing\n",
    "predictions, true_labels = [], []\n",
    "\n",
    "for text, annotations in examples:\n",
    "    doc = nlp(text)\n",
    "    predicted_labels = [(ent.start_char, ent.end_char, ent.label_) for ent in doc.ents]\n",
    "    true_entities = annotations['entities']\n",
    "\n",
    "    predictions.extend([label for _, _, label in predicted_labels])\n",
    "    true_labels.extend([label for _, _, label in true_entities])\n"
   ],
   "id": "e1ebe2767729cdb"
  },
  {
   "metadata": {},
   "cell_type": "code",
   "outputs": [],
   "execution_count": null,
   "source": [
    "# Calculate metrics\n",
    "precision, recall, f1_score, _ = precision_recall_fscore_support(true_labels, predictions, average='weighted')\n",
    "print(f\"Precision: {precision:.3f}\")\n",
    "print(f\"Recall: {recall:.3f}\")\n",
    "print(f\"F1 Score: {f1_score:.3f}\")\n"
   ],
   "id": "a92e44836f50b279"
  },
  {
   "metadata": {},
   "cell_type": "code",
   "outputs": [],
   "execution_count": null,
   "source": [
    "# Display detailed classification report\n",
    "print(\"\\nClassification Report:\\n\")\n",
    "print(classification_report(true_labels, predictions))\n"
   ],
   "id": "766b5f99f57548c1"
  }
 ],
 "metadata": {
  "kernelspec": {
   "display_name": "Python 3",
   "language": "python",
   "name": "python3"
  },
  "language_info": {
   "codemirror_mode": {
    "name": "ipython",
    "version": 2
   },
   "file_extension": ".py",
   "mimetype": "text/x-python",
   "name": "python",
   "nbconvert_exporter": "python",
   "pygments_lexer": "ipython2",
   "version": "2.7.6"
  }
 },
 "nbformat": 4,
 "nbformat_minor": 5
}
