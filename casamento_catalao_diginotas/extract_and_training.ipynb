{
 "cells": [
  {
   "metadata": {
    "ExecuteTime": {
     "end_time": "2024-10-21T00:32:07.957494Z",
     "start_time": "2024-10-21T00:32:01.836573Z"
    }
   },
   "cell_type": "code",
   "source": "!pip install PyMuPdf",
   "id": "501ad76f8ae29aef",
   "outputs": [
    {
     "name": "stdout",
     "output_type": "stream",
     "text": [
      "Collecting PyMuPdf\n",
      "  Downloading PyMuPDF-1.24.11-cp38-abi3-win_amd64.whl.metadata (3.4 kB)\n",
      "Downloading PyMuPDF-1.24.11-cp38-abi3-win_amd64.whl (16.0 MB)\n",
      "   ---------------------------------------- 0.0/16.0 MB ? eta -:--:--\n",
      "   - -------------------------------------- 0.8/16.0 MB 5.6 MB/s eta 0:00:03\n",
      "   ------- -------------------------------- 3.1/16.0 MB 9.7 MB/s eta 0:00:02\n",
      "   ------------- -------------------------- 5.5/16.0 MB 10.5 MB/s eta 0:00:01\n",
      "   ------------------- -------------------- 7.9/16.0 MB 10.8 MB/s eta 0:00:01\n",
      "   -------------------------- ------------- 10.5/16.0 MB 11.1 MB/s eta 0:00:01\n",
      "   -------------------------------- ------- 12.8/16.0 MB 11.2 MB/s eta 0:00:01\n",
      "   -------------------------------------- - 15.2/16.0 MB 11.3 MB/s eta 0:00:01\n",
      "   ---------------------------------------- 16.0/16.0 MB 11.1 MB/s eta 0:00:00\n",
      "Installing collected packages: PyMuPdf\n",
      "Successfully installed PyMuPdf-1.24.11\n"
     ]
    }
   ],
   "execution_count": 1
  },
  {
   "cell_type": "code",
   "execution_count": null,
   "id": "f674a99e21a31340",
   "metadata": {},
   "outputs": [],
   "source": [
    "import fitz  # PyMuPDF\n",
    "import os"
   ]
  },
  {
   "metadata": {},
   "cell_type": "code",
   "outputs": [],
   "execution_count": null,
   "source": [
    "\n",
    "def extrair_texto_pdfs(pasta_pdfs, arquivo_saida):\n",
    "    \"\"\"\n",
    "    Extrai texto de PDFs em uma pasta, separa páginas e documentos com quebras de linha, e salva em um arquivo TXT.\n",
    "\n",
    "    Args:\n",
    "        pasta_pdfs: Caminho para a pasta contendo os PDFs.\n",
    "        arquivo_saida: Nome do arquivo TXT de saída.\n",
    "    \"\"\"\n",
    "\n",
    "    with open(arquivo_saida, \"w\", encoding=\"utf-8\") as txt_file:\n",
    "        for nome_arquivo in os.listdir(pasta_pdfs):\n",
    "            if nome_arquivo.endswith(\".pdf\"):\n",
    "                caminho_pdf = os.path.join(pasta_pdfs, nome_arquivo)\n",
    "                try:\n",
    "                    with fitz.open(caminho_pdf) as pdf_doc:\n",
    "                        for pagina_num in range(pdf_doc.page_count):\n",
    "                            pagina = pdf_doc[pagina_num]\n",
    "                            texto = pagina.get_text(\"text\")\n",
    "                            txt_file.write(texto)\n",
    "                            txt_file.write(\"\\n\\n\\n\")  # Três quebras de linha entre páginas\n",
    "                        txt_file.write(\"\\n\\n\\n\")  # Três quebras de linha entre PDFs\n",
    "                except Exception as e:\n",
    "                    print(f\"Erro ao processar {nome_arquivo}: {e}\")\n"
   ],
   "id": "761fc21c79820685"
  },
  {
   "metadata": {
    "collapsed": true
   },
   "cell_type": "code",
   "outputs": [],
   "execution_count": null,
   "source": [
    "# Exemplo de uso\n",
    "pasta_pdfs = \"caminho/para/seus/pdfs\"  # Substitua pelo caminho da sua pasta\n",
    "arquivo_saida = \"textos_extraidos.txt\"\n",
    "extrair_texto_pdfs(pasta_pdfs, arquivo_saida)\n",
    "\n",
    "print(f\"Textos extraídos e salvos em {arquivo_saida}\")"
   ],
   "id": "initial_id"
  }
 ],
 "metadata": {
  "kernelspec": {
   "display_name": "Python 3",
   "language": "python",
   "name": "python3"
  },
  "language_info": {
   "codemirror_mode": {
    "name": "ipython",
    "version": 2
   },
   "file_extension": ".py",
   "mimetype": "text/x-python",
   "name": "python",
   "nbconvert_exporter": "python",
   "pygments_lexer": "ipython2",
   "version": "2.7.6"
  }
 },
 "nbformat": 4,
 "nbformat_minor": 5
}
