{
 "cells": [
  {
   "metadata": {},
   "cell_type": "code",
   "source": "!pip install PyMuPdf",
   "id": "501ad76f8ae29aef",
   "outputs": [],
   "execution_count": null
  },
  {
   "metadata": {
    "ExecuteTime": {
     "end_time": "2024-10-21T03:17:17.595223Z",
     "start_time": "2024-10-21T03:17:17.591672Z"
    }
   },
   "cell_type": "code",
   "source": [
    "import fitz  # PyMuPDF\n",
    "import os\n",
    "import json\n",
    "import random\n"
   ],
   "id": "6239c33979914b14",
   "outputs": [],
   "execution_count": 8
  },
  {
   "metadata": {
    "ExecuteTime": {
     "end_time": "2024-10-21T03:32:34.233079Z",
     "start_time": "2024-10-21T03:32:34.227577Z"
    }
   },
   "cell_type": "code",
   "source": [
    "def extrair_texto_pdfs_json(pasta_pdfs, arquivo_saida):\n",
    "    \"\"\"\n",
    "    Extrai texto de PDFs em uma pasta, formata em JSON para Label Studio, \n",
    "    e salva em um arquivo JSON. Cada página é uma tarefa.\n",
    "\n",
    "    Args:\n",
    "        pasta_pdfs: Caminho para a pasta contendo os PDFs.\n",
    "        arquivo_saida: Nome do arquivo JSON de saída.\n",
    "    \"\"\"\n",
    "\n",
    "    dados = []  # Lista para armazenar os dados em formato JSON\n",
    "    idnum = 53\n",
    "    pulo_pag = 0\n",
    "    num_pag_total = 0\n",
    "    num_pag_lidas = 0\n",
    "\n",
    "    for nome_arquivo in os.listdir(pasta_pdfs):\n",
    "        if nome_arquivo.endswith(\".pdf\"):\n",
    "            caminho_pdf = os.path.join(pasta_pdfs, nome_arquivo)\n",
    "            try:\n",
    "                with fitz.open(caminho_pdf) as pdf_doc:\n",
    "                    for pagina_num in range(pdf_doc.page_count):\n",
    "                        if pulo_pag == 0:\n",
    "                            idnum += 1\n",
    "                            pagina = pdf_doc[pagina_num]\n",
    "                            texto = pagina.get_text(\"text\")\n",
    "\n",
    "                            # Cria um dicionário para cada página no formato Label Studio\n",
    "                            dados.append({\n",
    "                                \"id\": f\"{idnum}\",  # ID único para cada página\n",
    "                                \"data\": {\"text\": texto}  # Aqui ficam os dados. Adicione outras chaves se necessário\n",
    "                            })\n",
    "                            pulo_pag = random.randint(1, 10)\n",
    "                            print(f\"pulo: {pulo_pag}\")\n",
    "                            num_pag_lidas += 1\n",
    "                        else:\n",
    "                            pulo_pag -= 1\n",
    "                        num_pag_total += 1\n",
    "\n",
    "            except Exception as e:\n",
    "                print(f\"Erro ao processar {nome_arquivo}: {e}\")\n",
    "\n",
    "    # Salva os dados no arquivo JSON\n",
    "    with open(arquivo_saida, \"w\", encoding=\"utf-8\") as f:\n",
    "        json.dump(dados, f, ensure_ascii=False, indent=2)  # Salva a lista 'dados' como JSON\n",
    "        \n",
    "    print(f\"paginas no diretorio: {num_pag_total}, paginas no Json: {num_pag_lidas}\")\n"
   ],
   "id": "710f3a1a15fbb4dd",
   "outputs": [],
   "execution_count": 17
  },
  {
   "metadata": {
    "ExecuteTime": {
     "end_time": "2024-10-21T04:05:31.918638Z",
     "start_time": "2024-10-21T04:05:29.701706Z"
    }
   },
   "cell_type": "code",
   "source": [
    "# Exemplo de uso\n",
    "pasta_pdfs = \"C:\\\\Users\\\\josed\\\\Codes\\\\Dados_diginotas\\\\catalao_scripts\\\\casamento_catalao\\\\docs\\\\ocred\\\\B070\"  # Substitua pelo caminho da sua pasta\n",
    "arquivo_saida = os.path.join(pasta_pdfs, \"dados_label_studio.json\")  # Salva na mesma pasta dos PDFs\n",
    "extrair_texto_pdfs_json(pasta_pdfs, arquivo_saida)\n",
    "\n",
    "print(f\"Dados em formato JSON salvos em {arquivo_saida}\")"
   ],
   "id": "17adbe432e6a3bb5",
   "outputs": [
    {
     "name": "stdout",
     "output_type": "stream",
     "text": [
      "pulo: 8\n",
      "pulo: 8\n",
      "pulo: 6\n",
      "pulo: 4\n",
      "pulo: 8\n",
      "pulo: 10\n",
      "pulo: 6\n",
      "pulo: 3\n",
      "pulo: 5\n",
      "pulo: 6\n",
      "pulo: 3\n",
      "pulo: 7\n",
      "pulo: 10\n",
      "pulo: 3\n",
      "pulo: 7\n",
      "pulo: 10\n",
      "pulo: 1\n",
      "pulo: 3\n",
      "pulo: 4\n",
      "pulo: 6\n",
      "pulo: 2\n",
      "pulo: 8\n",
      "pulo: 1\n",
      "pulo: 9\n",
      "pulo: 2\n",
      "pulo: 10\n",
      "pulo: 6\n",
      "pulo: 3\n",
      "pulo: 4\n",
      "pulo: 8\n",
      "pulo: 6\n",
      "pulo: 2\n",
      "pulo: 3\n",
      "pulo: 7\n",
      "pulo: 10\n",
      "pulo: 6\n",
      "pulo: 6\n",
      "pulo: 1\n",
      "pulo: 9\n",
      "pulo: 3\n",
      "pulo: 10\n",
      "pulo: 2\n",
      "pulo: 3\n",
      "pulo: 6\n",
      "pulo: 7\n",
      "pulo: 2\n",
      "pulo: 4\n",
      "pulo: 4\n",
      "pulo: 1\n",
      "pulo: 5\n",
      "pulo: 6\n",
      "pulo: 6\n",
      "paginas no diretorio: 327, paginas no Json: 52\n",
      "Dados em formato JSON salvos em C:\\Users\\josed\\Codes\\Dados_diginotas\\catalao_scripts\\casamento_catalao\\docs\\ocred\\B070\\dados_label_studio.json\n"
     ]
    }
   ],
   "execution_count": 20
  }
 ],
 "metadata": {
  "kernelspec": {
   "display_name": "Python 3",
   "language": "python",
   "name": "python3"
  },
  "language_info": {
   "codemirror_mode": {
    "name": "ipython",
    "version": 2
   },
   "file_extension": ".py",
   "mimetype": "text/x-python",
   "name": "python",
   "nbconvert_exporter": "python",
   "pygments_lexer": "ipython2",
   "version": "2.7.6"
  }
 },
 "nbformat": 4,
 "nbformat_minor": 5
}
